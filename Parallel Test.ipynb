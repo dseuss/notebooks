{
 "cells": [
  {
   "cell_type": "code",
   "execution_count": 1,
   "metadata": {
    "collapsed": false
   },
   "outputs": [
    {
     "name": "stdout",
     "output_type": "stream",
     "text": [
      "Number of clients: 4\n"
     ]
    }
   ],
   "source": [
    "from IPython import parallel\n",
    "clients = parallel.Client()\n",
    "view = clients.load_balanced_view()\n",
    "print(\"Number of clients: {}\".format(len(clients)))\n",
    "\n",
    "#with clients.direct_view().sync_imports():\n",
    "#    import pymc3"
   ]
  },
  {
   "cell_type": "code",
   "execution_count": 6,
   "metadata": {
    "collapsed": false
   },
   "outputs": [],
   "source": [
    "%%px\n",
    "import pymc3"
   ]
  },
  {
   "cell_type": "code",
   "execution_count": 7,
   "metadata": {
    "collapsed": false
   },
   "outputs": [],
   "source": [
    "def linear_fit(m):\n",
    "    SAMPLES = 100\n",
    "    SIGMA = 0.2\n",
    "    x = np.random.rand(SAMPLES)\n",
    "    y = m * x + SIGMA * np.random.randn(SAMPLES)\n",
    "    data = dict(x=x, y=y)\n",
    "    \n",
    "    with pymc3.Model() as model:\n",
    "        pymc3.glm.glm('y ~ x', data)\n",
    "        step = pymc3.Slice()\n",
    "        trace = pymc3.sample(2000, step)\n",
    "    \n",
    "    return np.mean(trace['x'])"
   ]
  },
  {
   "cell_type": "code",
   "execution_count": 8,
   "metadata": {
    "collapsed": false
   },
   "outputs": [],
   "source": [
    "res = view.map_sync(linear_fit, range(8))"
   ]
  },
  {
   "cell_type": "code",
   "execution_count": 9,
   "metadata": {
    "collapsed": false
   },
   "outputs": [
    {
     "data": {
      "text/plain": [
       "[-0.1039286445316695,\n",
       " 0.96829167578668651,\n",
       " 1.914161697333854,\n",
       " 2.9984942623350377,\n",
       " 3.9964351830454024,\n",
       " 5.0581820369063557,\n",
       " 6.0159619324304989,\n",
       " 7.027377403761589]"
      ]
     },
     "execution_count": 9,
     "metadata": {},
     "output_type": "execute_result"
    }
   ],
   "source": [
    "res"
   ]
  },
  {
   "cell_type": "code",
   "execution_count": null,
   "metadata": {
    "collapsed": true
   },
   "outputs": [],
   "source": []
  }
 ],
 "metadata": {
  "kernelspec": {
   "display_name": "Python 3",
   "language": "python",
   "name": "python3"
  },
  "language_info": {
   "codemirror_mode": {
    "name": "ipython",
    "version": 2
   },
   "file_extension": ".py",
   "mimetype": "text/x-python",
   "name": "python",
   "nbconvert_exporter": "python",
   "pygments_lexer": "ipython2",
   "version": "2.7.9"
  }
 },
 "nbformat": 4,
 "nbformat_minor": 0
}
