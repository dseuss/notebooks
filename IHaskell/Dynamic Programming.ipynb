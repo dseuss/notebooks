{
 "cells": [
  {
   "cell_type": "markdown",
   "metadata": {},
   "source": [
    "# Knapsack"
   ]
  },
  {
   "cell_type": "code",
   "execution_count": 1,
   "metadata": {
    "collapsed": false
   },
   "outputs": [],
   "source": [
    "newtype Item = Item (Int, Int) deriving (Show)\n",
    "\n",
    "weight :: Item -> Int\n",
    "weight (Item (w, _)) = w\n",
    "\n",
    "value :: Item -> Int\n",
    "value (Item (_, v)) = v"
   ]
  },
  {
   "cell_type": "code",
   "execution_count": 2,
   "metadata": {
    "collapsed": false
   },
   "outputs": [
    {
     "data": {
      "text/plain": [
       "[Item (12,7),Item (6,16),Item (12,13),Item (9,2),Item (4,16)]"
      ]
     },
     "metadata": {},
     "output_type": "display_data"
    }
   ],
   "source": [
    "import System.Random\n",
    "\n",
    "sampleItems n = zipWith (curry Item) weights values\n",
    "    where\n",
    "    (weights, values) = splitAt n $ take (2*n) rseq\n",
    "    rseq = randomRs (1, 20) (mkStdGen 32345)\n",
    "sampleItems 5"
   ]
  },
  {
   "cell_type": "code",
   "execution_count": 3,
   "metadata": {
    "collapsed": false
   },
   "outputs": [
    {
     "data": {
      "text/plain": [
       "5109"
      ]
     },
     "metadata": {},
     "output_type": "display_data"
    }
   ],
   "source": [
    "knapsack :: Int -> [Item] -> Int\n",
    "knapsack _ [] = 0\n",
    "knapsack w (x:xs)\n",
    "    | w < weight x = knapsack w xs\n",
    "    | otherwise = maximum ((knapsack w xs), (knapsack (w - weight x) xs) + value x)\n",
    "\n",
    "\n",
    "sample = sampleItems 10000\n",
    "knapsack 5000 sample"
   ]
  },
  {
   "cell_type": "code",
   "execution_count": null,
   "metadata": {
    "collapsed": false
   },
   "outputs": [],
   "source": [
    "maximum (2, 4)"
   ]
  },
  {
   "cell_type": "code",
   "execution_count": null,
   "metadata": {
    "collapsed": true
   },
   "outputs": [],
   "source": []
  }
 ],
 "metadata": {
  "kernelspec": {
   "display_name": "Haskell",
   "language": "haskell",
   "name": "haskell"
  },
  "language_info": {
   "codemirror_mode": "ihaskell",
   "file_extension": ".hs",
   "name": "haskell",
   "version": "7.10.3"
  }
 },
 "nbformat": 4,
 "nbformat_minor": 0
}
