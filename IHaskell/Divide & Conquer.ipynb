{
 "cells": [
  {
   "cell_type": "markdown",
   "metadata": {},
   "source": [
    "Divide & Conquer is a general algorithmic strategy for solving complex problems with non-overlapping subproblem (for overlapping sub-problems see Dynamic Programming).\n",
    "\n",
    "The basic strategy is to recursively brake down a problem into 2 (or more) subprobles. The solution to the original problem is then generated from the solution of the (simpler) sub-problems."
   ]
  },
  {
   "cell_type": "markdown",
   "metadata": {},
   "source": [
    "# Simple Sort\n",
    "\n",
    "To get our brains warmed up, just a simple \"insertion sort\" like sorting algorithm (but not inplace)"
   ]
  },
  {
   "cell_type": "code",
   "execution_count": 1,
   "metadata": {
    "collapsed": false
   },
   "outputs": [],
   "source": [
    "import Data.List\n",
    "\n",
    "simpleSort :: (Ord a) => [a] -> [a]\n",
    "simpleSort [] = []\n",
    "simpleSort xs = [x_min] ++ simpleSort remainder\n",
    "    where \n",
    "    x_min = minimum xs\n",
    "    remainder = delete x_min xs"
   ]
  },
  {
   "cell_type": "code",
   "execution_count": 2,
   "metadata": {
    "collapsed": false
   },
   "outputs": [
    {
     "data": {
      "text/plain": [
       "[1,2,3]"
      ]
     },
     "metadata": {},
     "output_type": "display_data"
    }
   ],
   "source": [
    "simpleSort [3, 2, 1]"
   ]
  },
  {
   "cell_type": "code",
   "execution_count": 3,
   "metadata": {
    "collapsed": false
   },
   "outputs": [
    {
     "data": {
      "text/plain": [
       "+++ OK, passed 100 tests."
      ]
     },
     "metadata": {},
     "output_type": "display_data"
    },
    {
     "data": {
      "text/plain": [
       "+++ OK, passed 100 tests."
      ]
     },
     "metadata": {},
     "output_type": "display_data"
    }
   ],
   "source": [
    "import Test.QuickCheck\n",
    "\n",
    "isIdempotent :: (Eq a) => (a -> a) -> a -> Bool\n",
    "isIdempotent f val = (f val) == (f $ f val)\n",
    "quickCheck (isIdempotent simpleSort)\n",
    "\n",
    "\n",
    "isSorted :: (Ord a) => [a] -> Bool\n",
    "isSorted [] = True\n",
    "isSorted [_] = True\n",
    "isSorted [x1, x2] = x1 <= x2\n",
    "isSorted (x1:x2:xs) = (x1 <= x2) && isSorted (x2:xs)\n",
    "\n",
    "isSorting :: (Ord a) => ([a] -> [a]) -> [a] -> Bool\n",
    "isSorting f xs = isSorted $ f xs\n",
    "quickCheck (isSorting simpleSort)"
   ]
  },
  {
   "cell_type": "markdown",
   "metadata": {},
   "source": [
    "# mergesort\n",
    "\n",
    "mergesort is an efficient sorting algorithm..."
   ]
  },
  {
   "cell_type": "code",
   "execution_count": 4,
   "metadata": {
    "collapsed": true
   },
   "outputs": [],
   "source": [
    "-- merges two sorted list into a larger sorted list\n",
    "merge :: (Ord a) => [a] -> [a] -> [a]\n",
    "merge xs [] = xs\n",
    "merge [] ys = ys\n",
    "merge (x:xs) (y:ys)\n",
    "    | x <= y     = (x:merge xs (y:ys))\n",
    "    | otherwise = (y:merge (x:xs) ys)"
   ]
  },
  {
   "cell_type": "code",
   "execution_count": 5,
   "metadata": {
    "collapsed": false
   },
   "outputs": [
    {
     "data": {
      "text/plain": [
       "+++ OK, passed 100 tests."
      ]
     },
     "metadata": {},
     "output_type": "display_data"
    }
   ],
   "source": [
    "mergesCorrectly :: (Ord a) => ([a] -> [a] -> [a]) -> [a] -> [a] -> Bool\n",
    "mergesCorrectly f xs ys = isSorted $ f (simpleSort xs) (simpleSort ys)\n",
    "quickCheck (mergesCorrectly merge)"
   ]
  },
  {
   "cell_type": "code",
   "execution_count": 6,
   "metadata": {
    "collapsed": false
   },
   "outputs": [
    {
     "data": {
      "text/plain": [
       "+++ OK, passed 100 tests."
      ]
     },
     "metadata": {},
     "output_type": "display_data"
    }
   ],
   "source": [
    "split :: [a] -> ([a], [a])\n",
    "split [] = ([], [])\n",
    "split xs = splitAt ((length xs + 1) `quot` 2) xs\n",
    "\n",
    "quickCheck (\\xs -> uncurry (++) (split xs) == xs)"
   ]
  },
  {
   "cell_type": "code",
   "execution_count": 36,
   "metadata": {
    "collapsed": false
   },
   "outputs": [],
   "source": [
    "mergeSort :: (Ord a) => [a] -> [a]\n",
    "mergeSort [] = []\n",
    "mergeSort xs \n",
    "    | length xs <= 10 = simpleSort xs\n",
    "    | otherwise      = merge (mergeSort left) (mergeSort right)\n",
    "    where (left, right) = split xs"
   ]
  },
  {
   "cell_type": "code",
   "execution_count": 45,
   "metadata": {
    "collapsed": false
   },
   "outputs": [
    {
     "data": {
      "text/plain": [
       "+++ OK, passed 100 tests."
      ]
     },
     "metadata": {},
     "output_type": "display_data"
    },
    {
     "data": {
      "text/plain": [
       "+++ OK, passed 100 tests."
      ]
     },
     "metadata": {},
     "output_type": "display_data"
    }
   ],
   "source": [
    "quickCheck (isIdempotent mergeSort)\n",
    "quickCheck (isSorting mergeSort)"
   ]
  }
 ],
 "metadata": {
  "kernelspec": {
   "display_name": "Haskell",
   "language": "haskell",
   "name": "haskell"
  },
  "language_info": {
   "codemirror_mode": "ihaskell",
   "file_extension": ".hs",
   "name": "haskell",
   "version": "7.10.3"
  }
 },
 "nbformat": 4,
 "nbformat_minor": 0
}
