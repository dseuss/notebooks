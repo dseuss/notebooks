{
 "cells": [
  {
   "cell_type": "code",
   "execution_count": 4,
   "metadata": {
    "collapsed": false
   },
   "outputs": [],
   "source": [
    "import numpy as np\n",
    "import matplotlib.pyplot as pl\n",
    "from tools.plot import matshow\n",
    "from tools.helpers import Progress, Timer\n",
    "from physics.ccg_haar import orthogonal\n",
    "import cvxpy as cvx\n",
    "import scipy.sparse as sp"
   ]
  },
  {
   "cell_type": "code",
   "execution_count": 5,
   "metadata": {
    "collapsed": false
   },
   "outputs": [],
   "source": [
    "def random_lowrank_hmatrix(n, r):\n",
    "    A = np.random.uniform(size=(n, r))\n",
    "    return np.dot(A, A.T)\n",
    "\n",
    "def random_lowrank_matrix(n, r):\n",
    "    A, B = np.random.uniform(size=(2, n, r))\n",
    "    return np.dot(A, B.T)"
   ]
  },
  {
   "cell_type": "code",
   "execution_count": 6,
   "metadata": {
    "collapsed": true
   },
   "outputs": [],
   "source": [
    "def norm_F(A):\n",
    "    return np.sqrt(np.sum(A**2))"
   ]
  },
  {
   "cell_type": "code",
   "execution_count": 7,
   "metadata": {
    "collapsed": false
   },
   "outputs": [],
   "source": [
    "def choices(n, m):\n",
    "    res = set()\n",
    "    while len(res) < m:\n",
    "        res.add(tuple(np.random.randint(0, n, 2)))\n",
    "    return res"
   ]
  },
  {
   "cell_type": "markdown",
   "metadata": {},
   "source": [
    "# Completion via Nuclear-norm minimization"
   ]
  },
  {
   "cell_type": "code",
   "execution_count": 8,
   "metadata": {
    "collapsed": false
   },
   "outputs": [],
   "source": [
    "def complete_nucnorm(obs, n):\n",
    "    Z = cvx.Variable(n, n)\n",
    "    aim = cvx.Minimize(cvx.normNuc(Z))\n",
    "    cons = [Z[i, j] == val for i, j, val in izip(obs.row, obs.col, obs.data)]\n",
    "    prob = cvx.Problem(aim, cons)\n",
    "    try:\n",
    "        prob.solve(solver=cvx.MOSEK)\n",
    "    except cvx.SolverError:\n",
    "        return np.zeros(n, n)\n",
    "    return Z.value"
   ]
  },
  {
   "cell_type": "code",
   "execution_count": 9,
   "metadata": {
    "collapsed": true
   },
   "outputs": [],
   "source": [
    "def truncate_coo(mat, m):\n",
    "    return sp.coo_matrix((mat.data[:m], (mat.row[:m], mat.col[:m])),\n",
    "                        shape=mat.shape)"
   ]
  },
  {
   "cell_type": "markdown",
   "metadata": {},
   "source": [
    "# Completion via AltMin"
   ]
  },
  {
   "cell_type": "code",
   "execution_count": 10,
   "metadata": {
    "collapsed": false
   },
   "outputs": [],
   "source": [
    "import itertools as it\n",
    "from numpy.linalg import lstsq\n",
    "\n",
    "def complete_altmin(obs, n, r, regc=1.):\n",
    "    selmat = np.zeros((n, n), dtype=bool)\n",
    "    obs_csr = obs.tocsr()\n",
    "    obs_csc = obs.tocsc()\n",
    "\n",
    "    L = np.random.randn(n, r)\n",
    "    R = np.random.randn(n, r)\n",
    "\n",
    "    while True:\n",
    "        for i in range(n):\n",
    "            if obs_csr.indptr[i] == obs_csr.indptr[i + 1]:\n",
    "                R[i, :] = 0\n",
    "            else:\n",
    "                sel = slice(obs_csr.indptr[i], obs_csr.indptr[i + 1])\n",
    "                L_sel = L[obs_csr.indices[sel]]\n",
    "                tmat = np.tensordot(L_sel, L_sel, axes=(0, 0)) + regc * np.eye(r)\n",
    "                sumterm = np.tensordot(L_sel, obs_csr.data[sel], axes=(0, 0))\n",
    "                R[i, :] = np.linalg.pinv(tmat).dot(sumterm)\n",
    "\n",
    "        for i in range(n):\n",
    "            if obs_csc.indptr[i] == obs_csc.indptr[i + 1]:\n",
    "                L[i, :] = 0\n",
    "            else:\n",
    "                sel = slice(obs_csc.indptr[i], obs_csc.indptr[i + 1])\n",
    "                R_sel = L[obs_csc.indices[sel]]\n",
    "                tmat = np.tensordot(R_sel, R_sel, axes=(0, 0)) + regc * np.eye(r)\n",
    "                sumterm = np.tensordot(R_sel, obs_csc.data[sel], axes=(0, 0))\n",
    "                L[i, :] = np.linalg.pinv(tmat).dot(sumterm)\n",
    "        \n",
    "        yield np.dot(L, R.T)"
   ]
  },
  {
   "cell_type": "code",
   "execution_count": 14,
   "metadata": {
    "collapsed": true
   },
   "outputs": [],
   "source": [
    "def iterative_cauchy(iterator, distfunc, reldist=1e-3, maxiter=1000):\n",
    "    last = next(iterator)\n",
    "    for _ in range(maxiter):\n",
    "        current = next(iterator)\n",
    "        if distfunc(last, current) < reldist:\n",
    "            return current\n",
    "        last = current\n",
    "    return current"
   ]
  },
  {
   "cell_type": "code",
   "execution_count": 15,
   "metadata": {
    "collapsed": true
   },
   "outputs": [],
   "source": [
    "n = 500\n",
    "m_max = 1000\n",
    "r = 10\n",
    "\n",
    "X = random_lowrank_matrix(n, r)\n",
    "indices = np.array(list(choices(n, m_max)))\n",
    "data = [X[i, j] for i, j in indices]\n",
    "obs = sp.coo_matrix((data, (indices[:, 0], indices[:, 1])),\n",
    "                   shape=(n, n))"
   ]
  },
  {
   "cell_type": "code",
   "execution_count": null,
   "metadata": {
    "collapsed": false
   },
   "outputs": [
    {
     "name": "stderr",
     "output_type": "stream",
     "text": [
      " 20% ( 2 of 10) |##########################                                                                                                          | Elapsed Time: 0:00:00 ETA:  0:00:01"
     ]
    }
   ],
   "source": [
    "with Timer():\n",
    "    solutions = (iterative_cauchy(complete_altmin(truncate_coo(obs, m), n, 2 * r, regc=1. / n),\n",
    "                                  lambda x,y: norm_F(x - y),\n",
    "                                  1e-4, maxiter=10000)\n",
    "                 for m in Progress(range(1, m_max, 100)))\n",
    "    diffs_am = [norm_F(X - recons) for recons in solutions]"
   ]
  },
  {
   "cell_type": "code",
   "execution_count": null,
   "metadata": {
    "collapsed": false
   },
   "outputs": [],
   "source": [
    "with Timer():\n",
    "    diffs_no = [norm_F(X - complete_nucnorm(truncate_coo(obs, m), n)) \n",
    "                for m in Progress(range(1, m_max, 5))]"
   ]
  },
  {
   "cell_type": "code",
   "execution_count": null,
   "metadata": {
    "collapsed": false
   },
   "outputs": [],
   "source": [
    "pl.plot(diffs_am)\n",
    "#pl.plot(diffs_no)"
   ]
  },
  {
   "cell_type": "code",
   "execution_count": null,
   "metadata": {
    "collapsed": true
   },
   "outputs": [],
   "source": [
    "*"
   ]
  }
 ],
 "metadata": {
  "anaconda-cloud": {},
  "kernelspec": {
   "display_name": "Python [default]",
   "language": "python",
   "name": "python3"
  },
  "language_info": {
   "codemirror_mode": {
    "name": "ipython",
    "version": 3
   },
   "file_extension": ".py",
   "mimetype": "text/x-python",
   "name": "python",
   "nbconvert_exporter": "python",
   "pygments_lexer": "ipython3",
   "version": "3.5.2"
  },
  "latex_envs": {
   "bibliofile": "biblio.bib",
   "cite_by": "apalike",
   "current_citInitial": 1,
   "eqLabelWithNumbers": true,
   "eqNumInitial": 0
  }
 },
 "nbformat": 4,
 "nbformat_minor": 0
}
